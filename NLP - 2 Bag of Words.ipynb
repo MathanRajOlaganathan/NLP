{
 "cells": [
  {
   "cell_type": "code",
   "execution_count": 3,
   "metadata": {},
   "outputs": [],
   "source": [
    "import nltk\n",
    "from nltk.stem import WordNetLemmatizer\n",
    "import re\n",
    "from nltk.corpus import stopwords\n"
   ]
  },
  {
   "cell_type": "markdown",
   "metadata": {},
   "source": [
    "#### Bag of Words - Document Matrix\n",
    "It is used extract features from text documents. Converts a text document in to a matrix.<br>\n",
    "1.Tokenize the paragraph in to sentences<br>\n",
    "2.Lower all the words in the sentences to normalize the data<br>(Otherwise today and Today will counted as different word)<br>\n",
    "3.Histogram the data - count the frequency of words in all sentences<br>\n",
    "4.sort the histogram and remove the less frequent data as it doesnt hold any significance for sentimental analysis<br>\n",
    "5.Create Document Matrix with all the words as features and the values will be the word count in a sentence row wise<br>\n"
   ]
  },
  {
   "cell_type": "markdown",
   "metadata": {},
   "source": [
    "M S Dhoni wikipedia paragraphs"
   ]
  },
  {
   "cell_type": "code",
   "execution_count": 19,
   "metadata": {},
   "outputs": [],
   "source": [
    "paragraph = \"\"\"Barring Sachin Tendulkar, MS Dhoni is arguably the most popular and definitely the most scrutinised cricketer\n",
    "            from India. He has done so coming from the cricketing backwaters, the mining state of Jharkhand, and through \n",
    "            a home-made batting\n",
    "            and wicketkeeping technique, and a style of captaincy that scales \n",
    "            the highs and lows of both conservatism and unorthodoxy. Under Dhonis captaincy, India have won the top prize\n",
    "            in all formats: the No.1 Test ranking for 18 months starting December 2009, the 50-over World Cup in 2011 and\n",
    "            the World Twenty20 on his captaincy debut in 2007.Dhoni, then a ticket inspector with the Indian Railways,\n",
    "            had escaped all attention bar the odd whisper among the followers of club cricket in Kolkata until he was 23\n",
    "            when he blasted two centuries in a triangular 50-over tournament for India A in Nairobi in 2004. Long-haired\n",
    "            and fearless, he soon swaggered into international cricket, and became an instant darling of the crowds with\n",
    "            ODI innings of 148 and 183 within a year of his debut.\n",
    "            Dhoni demonstrated all that was right with the new middle-class India. He didnt respect reputations, but \n",
    "            never disrespected. He improvised, he learned, but didnt make an apology about his batting style, which was \n",
    "            not the most elegant. He still batted with low, hockey hands, he still didnt look elegant but became a \n",
    "            multi-faceted ODI batsman, one who could accumulate, one who could rebuild, and one who could still unleash \n",
    "            those big sixes.\n",
    "            Along the way Dhoni showed leadership skills, which were recognised when Rahul Dravid gave up captaincy in 2007. \n",
    "            Just before that announcement from Dravid, Dhoni had taken a bunch of kids to South Africa and was leading India \n",
    "            to a World Cup win in a format the country didnt even take seriously. The ODI captaincy was natural progression,\n",
    "            and Anil Kumble just kept the seat warm in Tests for a year.Dhoni brought to captaincy a thick skin and relative\n",
    "            indifference to results that an Indian captain needs to keep the job for long. Along with coach Gary Kirsten, \n",
    "            he put his senior performers in a comfortable place, and they returned the favour with some of their best years \n",
    "            in international cricket. His calmness on the field helped and worked like a charm in the shorter formats,\n",
    "            although tactically he sometimes sat back for too long in Tests. All that cant argue against the fact that \n",
    "            India had some of their best years in Test cricket, in terms of tangible achievement, under Dhoni, and that\n",
    "            Dhoni has for years been among the best few ODI batsmen in the world\"\"\""
   ]
  },
  {
   "cell_type": "markdown",
   "metadata": {},
   "source": [
    "#### Text Cleaning(Data Preprocessing)"
   ]
  },
  {
   "cell_type": "code",
   "execution_count": 27,
   "metadata": {},
   "outputs": [
    {
     "data": {
      "text/plain": [
       "['Barring Sachin Tendulkar, MS Dhoni is arguably the most popular and definitely the most scrutinised cricketer\\n            from India.',\n",
       " 'He has done so coming from the cricketing backwaters, the mining state of Jharkhand, and through \\n            a home-made batting\\n            and wicketkeeping technique, and a style of captaincy that scales \\n            the highs and lows of both conservatism and unorthodoxy.',\n",
       " 'Under Dhonis captaincy, India have won the top prize\\n            in all formats: the No.1 Test ranking for 18 months starting December 2009, the 50-over World Cup in 2011 and\\n            the World Twenty20 on his captaincy debut in 2007.Dhoni, then a ticket inspector with the Indian Railways,\\n            had escaped all attention bar the odd whisper among the followers of club cricket in Kolkata until he was 23\\n            when he blasted two centuries in a triangular 50-over tournament for India A in Nairobi in 2004.',\n",
       " 'Long-haired\\n            and fearless, he soon swaggered into international cricket, and became an instant darling of the crowds with\\n            ODI innings of 148 and 183 within a year of his debut.',\n",
       " 'Dhoni demonstrated all that was right with the new middle-class India.',\n",
       " 'He didnt respect reputations, but \\n            never disrespected.',\n",
       " 'He improvised, he learned, but didnt make an apology about his batting style, which was \\n            not the most elegant.',\n",
       " 'He still batted with low, hockey hands, he still didnt look elegant but became a \\n            multi-faceted ODI batsman, one who could accumulate, one who could rebuild, and one who could still unleash \\n            those big sixes.',\n",
       " 'Along the way Dhoni showed leadership skills, which were recognised when Rahul Dravid gave up captaincy in 2007.',\n",
       " 'Just before that announcement from Dravid, Dhoni had taken a bunch of kids to South Africa and was leading India \\n            to a World Cup win in a format the country didnt even take seriously.',\n",
       " 'The ODI captaincy was natural progression,\\n            and Anil Kumble just kept the seat warm in Tests for a year.Dhoni brought to captaincy a thick skin and relative\\n            indifference to results that an Indian captain needs to keep the job for long.',\n",
       " 'Along with coach Gary Kirsten, \\n            he put his senior performers in a comfortable place, and they returned the favour with some of their best years \\n            in international cricket.',\n",
       " 'His calmness on the field helped and worked like a charm in the shorter formats,\\n            although tactically he sometimes sat back for too long in Tests.',\n",
       " 'All that cant argue against the fact that \\n            India had some of their best years in Test cricket, in terms of tangible achievement, under Dhoni, and that\\n            Dhoni has for years been among the best few ODI batsmen in the world']"
      ]
     },
     "execution_count": 27,
     "metadata": {},
     "output_type": "execute_result"
    }
   ],
   "source": [
    "sentences = nltk.sent_tokenize(paragraph)\n",
    "lemmatizer = WordNetLemmatizer()\n",
    "new_sentences = []\n",
    "sentences"
   ]
  },
  {
   "cell_type": "code",
   "execution_count": 35,
   "metadata": {},
   "outputs": [],
   "source": [
    "for i in range(len(sentences)):\n",
    "    filtered_sent = re.sub('[^a-zA-z]',' ',sentences[i]) #filtering only the words with(a-zA-z)\n",
    "    filtered_lower = filtered_sent.lower() #convert all in lowercase\n",
    "    words = filtered_lower.split() #convert in to list of words\n",
    "    filtered = [lemmatizer.lemmatize(word) for word in words if word not in set(stopwords.words('english'))] #remoeveall the stop words & lemmatize\n",
    "    cleaned_text = \" \".join(filtered) #form a sentence with the filtered words\n",
    "    new_sentences.append(cleaned_text)"
   ]
  },
  {
   "cell_type": "code",
   "execution_count": 36,
   "metadata": {},
   "outputs": [
    {
     "data": {
      "text/plain": [
       "['barring sachin tendulkar m dhoni arguably popular definitely scrutinised cricketer india',\n",
       " 'done coming cricketing backwater mining state jharkhand home made batting wicketkeeping technique style captaincy scale high low conservatism unorthodoxy',\n",
       " 'dhonis captaincy india top prize format test ranking month starting december world cup world twenty captaincy debut dhoni ticket inspector indian railway escaped attention bar odd whisper among follower club cricket kolkata blasted two century triangular tournament india nairobi',\n",
       " 'long haired fearless soon swaggered international cricket became instant darling crowd odi inning within year debut',\n",
       " 'dhoni demonstrated right new middle class india',\n",
       " 'didnt respect reputation never disrespected',\n",
       " 'improvised learned didnt make apology batting style elegant',\n",
       " 'still batted low hockey hand still didnt look elegant became multi faceted odi batsman one could accumulate one could rebuild one could still unleash big six',\n",
       " 'along way dhoni showed leadership skill recognised rahul dravid gave captaincy',\n",
       " 'announcement dravid dhoni taken bunch kid south africa leading india world cup win format country didnt even take seriously',\n",
       " 'odi captaincy natural progression anil kumble kept seat warm test year dhoni brought captaincy thick skin relative indifference result indian captain need keep job long',\n",
       " 'along coach gary kirsten put senior performer comfortable place returned favour best year international cricket',\n",
       " 'calmness field helped worked like charm shorter format although tactically sometimes sat back long test',\n",
       " 'cant argue fact india best year test cricket term tangible achievement dhoni dhoni year among best odi batsman world']"
      ]
     },
     "execution_count": 36,
     "metadata": {},
     "output_type": "execute_result"
    }
   ],
   "source": [
    "new_sentences"
   ]
  },
  {
   "cell_type": "markdown",
   "metadata": {},
   "source": [
    "The above sentences looks clean. The punctuation and stop words are removed now."
   ]
  },
  {
   "cell_type": "markdown",
   "metadata": {},
   "source": [
    "#### Lets create bag of words model\n"
   ]
  },
  {
   "cell_type": "code",
   "execution_count": 43,
   "metadata": {},
   "outputs": [],
   "source": [
    "from sklearn.feature_extraction.text import CountVectorizer\n",
    "cv = CountVectorizer(max_features=1500)\n",
    "X= cv.fit_transform(new_sentences).toarray()\n"
   ]
  },
  {
   "cell_type": "code",
   "execution_count": 45,
   "metadata": {},
   "outputs": [
    {
     "data": {
      "text/plain": [
       "(14, 173)"
      ]
     },
     "execution_count": 45,
     "metadata": {},
     "output_type": "execute_result"
    }
   ],
   "source": [
    "X.shape"
   ]
  },
  {
   "cell_type": "code",
   "execution_count": 49,
   "metadata": {},
   "outputs": [
    {
     "data": {
      "text/plain": [
       "array([0, 0, 0, 0, 0, 0, 0, 0, 0, 1, 0, 0, 0, 0, 0, 1, 0, 0, 0, 0, 0, 0,\n",
       "       0, 0, 0, 0, 0, 0, 0, 0, 0, 0, 0, 0, 0, 0, 0, 0, 0, 0, 1, 0, 0, 0,\n",
       "       0, 0, 0, 1, 0, 1, 0, 0, 0, 0, 0, 0, 0, 0, 0, 0, 0, 0, 0, 0, 0, 0,\n",
       "       0, 0, 0, 0, 0, 0, 0, 0, 1, 0, 0, 0, 0, 0, 0, 0, 0, 0, 0, 0, 0, 0,\n",
       "       0, 0, 0, 0, 0, 0, 0, 0, 0, 0, 0, 0, 0, 0, 0, 0, 0, 0, 0, 0, 0, 0,\n",
       "       0, 0, 1, 0, 0, 0, 0, 0, 0, 0, 0, 0, 0, 0, 0, 0, 0, 1, 0, 0, 1, 0,\n",
       "       0, 0, 0, 0, 0, 0, 0, 0, 0, 0, 0, 0, 0, 0, 0, 0, 0, 0, 0, 0, 1, 0,\n",
       "       0, 0, 0, 0, 0, 0, 0, 0, 0, 0, 0, 0, 0, 0, 0, 0, 0, 0, 0],\n",
       "      dtype=int64)"
      ]
     },
     "execution_count": 49,
     "metadata": {},
     "output_type": "execute_result"
    }
   ],
   "source": [
    "X[0]"
   ]
  },
  {
   "cell_type": "code",
   "execution_count": null,
   "metadata": {},
   "outputs": [],
   "source": []
  }
 ],
 "metadata": {
  "kernelspec": {
   "display_name": "Python 3",
   "language": "python",
   "name": "python3"
  },
  "language_info": {
   "codemirror_mode": {
    "name": "ipython",
    "version": 3
   },
   "file_extension": ".py",
   "mimetype": "text/x-python",
   "name": "python",
   "nbconvert_exporter": "python",
   "pygments_lexer": "ipython3",
   "version": "3.7.6"
  }
 },
 "nbformat": 4,
 "nbformat_minor": 2
}

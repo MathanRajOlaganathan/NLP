{
 "cells": [
  {
   "cell_type": "code",
   "execution_count": 9,
   "metadata": {},
   "outputs": [],
   "source": [
    "import nltk\n",
    "from nltk.corpus import stopwords\n",
    "from nltk.stem import PorterStemmer\n",
    "from nltk.stem import WordNetLemmatizer\n",
    "import re"
   ]
  },
  {
   "cell_type": "markdown",
   "metadata": {},
   "source": [
    "#### Bag of Words<br>\n",
    "\n",
    "Problems<br>\n",
    "All words have the same importance(Rareness of a term is not considered)<br>\n",
    "semantic information is not preserved<br>\n",
    "\n",
    "TF-IDF Model<br>\n",
    "some semantic information is preserved<br>\n",
    "lets say she is beautiful, here  beautiful will be preserved<br>\n",
    "\n",
    "TF-IDF = TF*IDF<br>\n",
    "\n",
    "TF = No of occurances of a word in a document/No of words in that document<br>\n",
    "A:\"MS Dhoni is the best captain of India\"<br>\n",
    "TF(best) = 1/8 = 0.125<br>\n",
    "\n",
    "IDF = log(No of documents/ No of documents containing word)<br>\n",
    "(No of Documents = No of sentences)<br>\n",
    "A:\"MS Dhoni is the best captain of India\"<br>\n",
    "\"Virat Kohli is the best batsman in all formats\"<br>\n",
    "\"Sachin Tendulkar is the god of cricket\"<br>\n",
    "IDF(Dhoni) = log(3/1) = 1.0986122887<br>\n"
   ]
  },
  {
   "cell_type": "markdown",
   "metadata": {},
   "source": [
    "#### Steps<br>\n",
    "#### Bag of Words - Document Matrix\n",
    "It is used extract features from text documents. Converts a text document in to a matrix.<br>\n",
    "1.Tokenize the paragraph in to sentences<br>\n",
    "2.Lower all the words in the sentences to normalize the data<br>(Otherwise today and Today will counted as different word)<br>\n",
    "3.Histogram the data - count the frequency of words in all sentences<br>\n",
    "4.sort the histogram and remove the less frequent data as it doesnt hold any significance for sentimental analysis<br>\n",
    "\n",
    "Till here the steps are same for Bag of words and TF-IDF<br>\n",
    "\n",
    "5.Find TF for the most frequent words (sentence wise)<br>\n",
    "6.Find IDF for the most frequet words<br>\n",
    "TF-IDF = TF*IDF = TF(Document,word)*IDF(word)\n",
    "\n",
    "<!-- ![title](C:/Users/omrfr/Desktop/TF-IDF.jpeg\"ShowMyImage\") -->\n",
    "\n",
    "\n",
    "<img src ='TF-IDF.png'>\n"
   ]
  },
  {
   "cell_type": "markdown",
   "metadata": {},
   "source": [
    "# "
   ]
  },
  {
   "cell_type": "code",
   "execution_count": 1,
   "metadata": {},
   "outputs": [],
   "source": [
    "paragraph = \"\"\"Barring Sachin Tendulkar, MS Dhoni is arguably the most popular and definitely the most scrutinised cricketer\n",
    "            from India. He has done so coming from the cricketing backwaters, the mining state of Jharkhand, and through \n",
    "            a home-made batting\n",
    "            and wicketkeeping technique, and a style of captaincy that scales \n",
    "            the highs and lows of both conservatism and unorthodoxy. Under Dhonis captaincy, India have won the top prize\n",
    "            in all formats: the No.1 Test ranking for 18 months starting December 2009, the 50-over World Cup in 2011 and\n",
    "            the World Twenty20 on his captaincy debut in 2007.Dhoni, then a ticket inspector with the Indian Railways,\n",
    "            had escaped all attention bar the odd whisper among the followers of club cricket in Kolkata until he was 23\n",
    "            when he blasted two centuries in a triangular 50-over tournament for India A in Nairobi in 2004. Long-haired\n",
    "            and fearless, he soon swaggered into international cricket, and became an instant darling of the crowds with\n",
    "            ODI innings of 148 and 183 within a year of his debut.\n",
    "            Dhoni demonstrated all that was right with the new middle-class India. He didnt respect reputations, but \n",
    "            never disrespected. He improvised, he learned, but didnt make an apology about his batting style, which was \n",
    "            not the most elegant. He still batted with low, hockey hands, he still didnt look elegant but became a \n",
    "            multi-faceted ODI batsman, one who could accumulate, one who could rebuild, and one who could still unleash \n",
    "            those big sixes.\n",
    "            Along the way Dhoni showed leadership skills, which were recognised when Rahul Dravid gave up captaincy in 2007. \n",
    "            Just before that announcement from Dravid, Dhoni had taken a bunch of kids to South Africa and was leading India \n",
    "            to a World Cup win in a format the country didnt even take seriously. The ODI captaincy was natural progression,\n",
    "            and Anil Kumble just kept the seat warm in Tests for a year.Dhoni brought to captaincy a thick skin and relative\n",
    "            indifference to results that an Indian captain needs to keep the job for long. Along with coach Gary Kirsten, \n",
    "            he put his senior performers in a comfortable place, and they returned the favour with some of their best years \n",
    "            in international cricket. His calmness on the field helped and worked like a charm in the shorter formats,\n",
    "            although tactically he sometimes sat back for too long in Tests. All that cant argue against the fact that \n",
    "            India had some of their best years in Test cricket, in terms of tangible achievement, under Dhoni, and that\n",
    "            Dhoni has for years been among the best few ODI batsmen in the world\"\"\""
   ]
  },
  {
   "cell_type": "markdown",
   "metadata": {},
   "source": [
    "#### Text Cleaning(Data Preprocessing)"
   ]
  },
  {
   "cell_type": "code",
   "execution_count": 11,
   "metadata": {},
   "outputs": [
    {
     "data": {
      "text/plain": [
       "['Barring Sachin Tendulkar, MS Dhoni is arguably the most popular and definitely the most scrutinised cricketer\\n            from India.',\n",
       " 'He has done so coming from the cricketing backwaters, the mining state of Jharkhand, and through \\n            a home-made batting\\n            and wicketkeeping technique, and a style of captaincy that scales \\n            the highs and lows of both conservatism and unorthodoxy.',\n",
       " 'Under Dhonis captaincy, India have won the top prize\\n            in all formats: the No.1 Test ranking for 18 months starting December 2009, the 50-over World Cup in 2011 and\\n            the World Twenty20 on his captaincy debut in 2007.Dhoni, then a ticket inspector with the Indian Railways,\\n            had escaped all attention bar the odd whisper among the followers of club cricket in Kolkata until he was 23\\n            when he blasted two centuries in a triangular 50-over tournament for India A in Nairobi in 2004.',\n",
       " 'Long-haired\\n            and fearless, he soon swaggered into international cricket, and became an instant darling of the crowds with\\n            ODI innings of 148 and 183 within a year of his debut.',\n",
       " 'Dhoni demonstrated all that was right with the new middle-class India.',\n",
       " 'He didnt respect reputations, but \\n            never disrespected.',\n",
       " 'He improvised, he learned, but didnt make an apology about his batting style, which was \\n            not the most elegant.',\n",
       " 'He still batted with low, hockey hands, he still didnt look elegant but became a \\n            multi-faceted ODI batsman, one who could accumulate, one who could rebuild, and one who could still unleash \\n            those big sixes.',\n",
       " 'Along the way Dhoni showed leadership skills, which were recognised when Rahul Dravid gave up captaincy in 2007.',\n",
       " 'Just before that announcement from Dravid, Dhoni had taken a bunch of kids to South Africa and was leading India \\n            to a World Cup win in a format the country didnt even take seriously.',\n",
       " 'The ODI captaincy was natural progression,\\n            and Anil Kumble just kept the seat warm in Tests for a year.Dhoni brought to captaincy a thick skin and relative\\n            indifference to results that an Indian captain needs to keep the job for long.',\n",
       " 'Along with coach Gary Kirsten, \\n            he put his senior performers in a comfortable place, and they returned the favour with some of their best years \\n            in international cricket.',\n",
       " 'His calmness on the field helped and worked like a charm in the shorter formats,\\n            although tactically he sometimes sat back for too long in Tests.',\n",
       " 'All that cant argue against the fact that \\n            India had some of their best years in Test cricket, in terms of tangible achievement, under Dhoni, and that\\n            Dhoni has for years been among the best few ODI batsmen in the world']"
      ]
     },
     "execution_count": 11,
     "metadata": {},
     "output_type": "execute_result"
    }
   ],
   "source": [
    "sentences = nltk.sent_tokenize(paragraph)\n",
    "lemmatizer = WordNetLemmatizer()\n",
    "corpus = []\n",
    "sentences"
   ]
  },
  {
   "cell_type": "code",
   "execution_count": 12,
   "metadata": {},
   "outputs": [],
   "source": [
    "for i in range(len(sentences)):\n",
    "    filtered_sent = re.sub('[^a-zA-z]',' ',sentences[i]) #filtering only the words with(a-zA-z)\n",
    "    filtered_lower = filtered_sent.lower() #convert all in lowercase\n",
    "    words = filtered_lower.split() #convert in to list of words\n",
    "    filtered = [lemmatizer.lemmatize(word) for word in words if word not in set(stopwords.words('english'))] #remoeveall the stop words & lemmatize\n",
    "    cleaned_text = \" \".join(filtered) #form a sentence with the filtered words\n",
    "    corpus.append(cleaned_text)"
   ]
  },
  {
   "cell_type": "markdown",
   "metadata": {},
   "source": [
    "Lets import TF-IDF model"
   ]
  },
  {
   "cell_type": "code",
   "execution_count": 15,
   "metadata": {},
   "outputs": [],
   "source": [
    "from sklearn.feature_extraction.text import TfidfVectorizer\n",
    "tfidf = TfidfVectorizer()\n",
    "X = tfidf.fit_transform(corpus).toarray()"
   ]
  },
  {
   "cell_type": "code",
   "execution_count": 16,
   "metadata": {},
   "outputs": [
    {
     "data": {
      "text/plain": [
       "array([[0.        , 0.        , 0.        , ..., 0.        , 0.        ,\n",
       "        0.        ],\n",
       "       [0.        , 0.        , 0.        , ..., 0.        , 0.        ,\n",
       "        0.        ],\n",
       "       [0.        , 0.        , 0.        , ..., 0.        , 0.25749785,\n",
       "        0.        ],\n",
       "       ...,\n",
       "       [0.        , 0.        , 0.        , ..., 0.        , 0.        ,\n",
       "        0.19147074],\n",
       "       [0.        , 0.        , 0.        , ..., 0.27046184, 0.        ,\n",
       "        0.        ],\n",
       "       [0.        , 0.24960557, 0.        , ..., 0.        , 0.19221951,\n",
       "        0.34749066]])"
      ]
     },
     "execution_count": 16,
     "metadata": {},
     "output_type": "execute_result"
    }
   ],
   "source": [
    "X"
   ]
  },
  {
   "cell_type": "code",
   "execution_count": 17,
   "metadata": {},
   "outputs": [
    {
     "data": {
      "text/plain": [
       "(14, 173)"
      ]
     },
     "execution_count": 17,
     "metadata": {},
     "output_type": "execute_result"
    }
   ],
   "source": [
    "X.shape"
   ]
  },
  {
   "cell_type": "code",
   "execution_count": null,
   "metadata": {},
   "outputs": [],
   "source": []
  }
 ],
 "metadata": {
  "kernelspec": {
   "display_name": "Python 3",
   "language": "python",
   "name": "python3"
  },
  "language_info": {
   "codemirror_mode": {
    "name": "ipython",
    "version": 3
   },
   "file_extension": ".py",
   "mimetype": "text/x-python",
   "name": "python",
   "nbconvert_exporter": "python",
   "pygments_lexer": "ipython3",
   "version": "3.7.6"
  }
 },
 "nbformat": 4,
 "nbformat_minor": 2
}

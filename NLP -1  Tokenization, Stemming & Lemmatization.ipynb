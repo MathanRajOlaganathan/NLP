{
 "cells": [
  {
   "cell_type": "code",
   "execution_count": 1,
   "metadata": {},
   "outputs": [],
   "source": [
    "import nltk\n",
    "\n"
   ]
  },
  {
   "cell_type": "markdown",
   "metadata": {},
   "source": [
    "#### NLP - Natural Language Processing\n",
    "\n",
    "Its the ability of the computer to understand human language. It helps computer to read text, hear speech and interpret it.\n",
    "We will use nltk python library to process text, audi etc.\n",
    "\n",
    "Applications<br>\n",
    "\n",
    "Spell check<br>\n",
    "Autocomplete<br>\n",
    "Voice text messaging<br>\n",
    "Spam filters<br>\n",
    "Related keywords on search engines<br>\n",
    "Siri, Alexa, or Google Assista<br>\n",
    "spam classifier"
   ]
  },
  {
   "cell_type": "markdown",
   "metadata": {},
   "source": [
    "###### MS Dhoni Wiki Para"
   ]
  },
  {
   "cell_type": "code",
   "execution_count": 2,
   "metadata": {},
   "outputs": [],
   "source": [
    "paragraph = \"\"\"Barring Sachin Tendulkar, MS Dhoni is arguably the most popular and definitely the most scrutinised cricketer\n",
    "            from India. He has done so coming from the cricketing backwaters, the mining state of Jharkhand, and through \n",
    "            a home-made batting\n",
    "            and wicketkeeping technique, and a style of captaincy that scales \n",
    "            the highs and lows of both conservatism and unorthodoxy. Under Dhonis captaincy, India have won the top prize\n",
    "            in all formats: the No.1 Test ranking for 18 months starting December 2009, the 50-over World Cup in 2011 and\n",
    "            the World Twenty20 on his captaincy debut in 2007.Dhoni, then a ticket inspector with the Indian Railways,\n",
    "            had escaped all attention bar the odd whisper among the followers of club cricket in Kolkata until he was 23\n",
    "            when he blasted two centuries in a triangular 50-over tournament for India A in Nairobi in 2004. Long-haired\n",
    "            and fearless, he soon swaggered into international cricket, and became an instant darling of the crowds with\n",
    "            ODI innings of 148 and 183 within a year of his debut.\n",
    "            Dhoni demonstrated all that was right with the new middle-class India. He didnt respect reputations, but \n",
    "            never disrespected. He improvised, he learned, but didnt make an apology about his batting style, which was \n",
    "            not the most elegant. He still batted with low, hockey hands, he still didnt look elegant but became a \n",
    "            multi-faceted ODI batsman, one who could accumulate, one who could rebuild, and one who could still unleash \n",
    "            those big sixes.\n",
    "            Along the way Dhoni showed leadership skills, which were recognised when Rahul Dravid gave up captaincy in 2007. \n",
    "            Just before that announcement from Dravid, Dhoni had taken a bunch of kids to South Africa and was leading India \n",
    "            to a World Cup win in a format the country didnt even take seriously. The ODI captaincy was natural progression,\n",
    "            and Anil Kumble just kept the seat warm in Tests for a year.Dhoni brought to captaincy a thick skin and relative\n",
    "            indifference to results that an Indian captain needs to keep the job for long. Along with coach Gary Kirsten, \n",
    "            he put his senior performers in a comfortable place, and they returned the favour with some of their best years \n",
    "            in international cricket. His calmness on the field helped and worked like a charm in the shorter formats,\n",
    "            although tactically he sometimes sat back for too long in Tests. All that cant argue against the fact that \n",
    "            India had some of their best years in Test cricket, in terms of tangible achievement, under Dhoni, and that\n",
    "            Dhoni has for years been among the best few ODI batsmen in the world\"\"\""
   ]
  },
  {
   "cell_type": "markdown",
   "metadata": {},
   "source": [
    "#### Using nltk.sent_tokenize to split the paragraph in to sentences"
   ]
  },
  {
   "cell_type": "code",
   "execution_count": 27,
   "metadata": {},
   "outputs": [
    {
     "name": "stdout",
     "output_type": "stream",
     "text": [
      "Barring Sachin Tendulkar, MS Dhoni is arguably the most popular and definitely the most scrutinised cricketer\n",
      "            from India.\n",
      "He has done so coming from the cricketing backwaters, the mining state of Jharkhand, and through \n",
      "            a home-made batting\n",
      "            and wicketkeeping technique, and a style of captaincy that scales \n",
      "            the highs and lows of both conservatism and unorthodoxy.\n",
      "Under Dhonis captaincy, India have won the top prize\n",
      "            in all formats: the No.1 Test ranking for 18 months starting December 2009, the 50-over World Cup in 2011 and\n",
      "            the World Twenty20 on his captaincy debut in 2007.Dhoni, then a ticket inspector with the Indian Railways,\n",
      "            had escaped all attention bar the odd whisper among the followers of club cricket in Kolkata until he was 23\n",
      "            when he blasted two centuries in a triangular 50-over tournament for India A in Nairobi in 2004.\n",
      "Long-haired\n",
      "            and fearless, he soon swaggered into international cricket, and became an instant darling of the crowds with\n",
      "            ODI innings of 148 and 183 within a year of his debut.\n",
      "Dhoni demonstrated all that was right with the new middle-class India.\n",
      "He didnt respect reputations, but \n",
      "            never disrespected.\n",
      "He improvised, he learned, but didnt make an apology about his batting style, which was \n",
      "            not the most elegant.\n",
      "He still batted with low, hockey hands, he still didnt look elegant but became a \n",
      "            multi-faceted ODI batsman, one who could accumulate, one who could rebuild, and one who could still unleash \n",
      "            those big sixes.\n",
      "Along the way Dhoni showed leadership skills, which were recognised when Rahul Dravid gave up captaincy in 2007.\n",
      "Just before that announcement from Dravid, Dhoni had taken a bunch of kids to South Africa and was leading India \n",
      "            to a World Cup win in a format the country didnt even take seriously.\n",
      "The ODI captaincy was natural progression,\n",
      "            and Anil Kumble just kept the seat warm in Tests for a year.Dhoni brought to captaincy a thick skin and relative\n",
      "            indifference to results that an Indian captain needs to keep the job for long.\n",
      "Along with coach Gary Kirsten, \n",
      "            he put his senior performers in a comfortable place, and they returned the favour with some of their best years \n",
      "            in international cricket.\n",
      "His calmness on the field helped and worked like a charm in the shorter formats,\n",
      "            although tactically he sometimes sat back for too long in Tests.\n",
      "All that cant argue against the fact that \n",
      "            India had some of their best years in Test cricket, in terms of tangible achievement, under Dhoni, and that\n",
      "            Dhoni has for years been among the best few ODI batsmen in the world\n"
     ]
    },
    {
     "data": {
      "text/plain": [
       "[None,\n",
       " None,\n",
       " None,\n",
       " None,\n",
       " None,\n",
       " None,\n",
       " None,\n",
       " None,\n",
       " None,\n",
       " None,\n",
       " None,\n",
       " None,\n",
       " None,\n",
       " None]"
      ]
     },
     "execution_count": 27,
     "metadata": {},
     "output_type": "execute_result"
    }
   ],
   "source": [
    "sentences = nltk.sent_tokenize(paragraph)\n",
    "[print(i) for i in sentences]"
   ]
  },
  {
   "cell_type": "markdown",
   "metadata": {},
   "source": [
    "#### Using nltk.word_tokenize to split the sentences in to wrods"
   ]
  },
  {
   "cell_type": "code",
   "execution_count": 10,
   "metadata": {
    "scrolled": true
   },
   "outputs": [
    {
     "name": "stdout",
     "output_type": "stream",
     "text": [
      "['This', 'is', 'amthan']\n"
     ]
    },
    {
     "data": {
      "text/plain": [
       "'This is amthan'"
      ]
     },
     "execution_count": 10,
     "metadata": {},
     "output_type": "execute_result"
    }
   ],
   "source": [
    "words = nltk.word_tokenize(paragraph)\n",
    "[print(word) for word in words]"
   ]
  },
  {
   "cell_type": "markdown",
   "metadata": {},
   "source": [
    "#### Stemming and StopWords\n",
    "Stemming - to find the root form of a word. [intelligence, intelligent, intelligenlty - intell]<br>\n",
    "But, the representation form might not be meaningful\n",
    "We can use PorterStemmer to stem the words.\n",
    "\n",
    "StopWords - to filter the commonly used words like he”, “a”, “an”, “in”\n",
    "stopwords.words('english') - list all the words in a la"
   ]
  },
  {
   "cell_type": "code",
   "execution_count": 5,
   "metadata": {},
   "outputs": [],
   "source": [
    "from nltk.stem import PorterStemmer\n",
    "from nltk.corpus import stopwords\n",
    "stemmer = PorterStemmer()"
   ]
  },
  {
   "cell_type": "code",
   "execution_count": 32,
   "metadata": {},
   "outputs": [],
   "source": [
    "for i in range(len(sentences)):\n",
    "    words = nltk.word_tokenize(sentences[i])\n",
    "    words = [stemmer.stem(word) for  word in words if word not in set(stopwords.words('English'))]\n",
    "    sentences[i] = \" \".join(words)"
   ]
  },
  {
   "cell_type": "code",
   "execution_count": 33,
   "metadata": {},
   "outputs": [
    {
     "name": "stdout",
     "output_type": "stream",
     "text": [
      "bar sachin tendulkar , MS dhoni arguabl popular definit scrutinis cricket india .\n",
      "He done come cricket backwat , mine state jharkhand , home-mad bat wicketkeep techniqu , style captainci scale high low conservat unorthodoxi .\n",
      "under dhoni captainci , india top prize format : no.1 test rank 18 month start decemb 2009 , 50-over world cup 2011 world twenty20 captainci debut 2007.dhoni , ticket inspector indian railway , escap attent bar odd whisper among follow club cricket kolkata 23 blast two centuri triangular 50-over tournament india A nairobi 2004 .\n",
      "long-hair fearless , soon swagger intern cricket , becam instant darl crowd odi inning 148 183 within year debut .\n",
      "dhoni demonstr right new middle-class india .\n",
      "He didnt respect reput , never disrespect .\n",
      "He improvis , learn , didnt make apolog bat style , eleg .\n",
      "He still bat low , hockey hand , still didnt look eleg becam multi-facet odi batsman , one could accumul , one could rebuild , one could still unleash big six .\n",
      "along way dhoni show leadership skill , recognis rahul dravid gave captainci 2007 .\n",
      "just announc dravid , dhoni taken bunch kid south africa lead india world cup win format countri didnt even take serious .\n",
      "the odi captainci natur progress , anil kumbl kept seat warm test year.dhoni brought captainci thick skin rel indiffer result indian captain need keep job long .\n",
      "along coach gari kirsten , put senior perform comfort place , return favour best year intern cricket .\n",
      "hi calm field help work like charm shorter format , although tactic sometim sat back long test .\n",
      "all cant argu fact india best year test cricket , term tangibl achiev , dhoni , dhoni year among best odi batsmen world\n"
     ]
    },
    {
     "data": {
      "text/plain": [
       "[None,\n",
       " None,\n",
       " None,\n",
       " None,\n",
       " None,\n",
       " None,\n",
       " None,\n",
       " None,\n",
       " None,\n",
       " None,\n",
       " None,\n",
       " None,\n",
       " None,\n",
       " None]"
      ]
     },
     "execution_count": 33,
     "metadata": {},
     "output_type": "execute_result"
    }
   ],
   "source": [
    "[print(i) for i in sentences]"
   ]
  },
  {
   "cell_type": "markdown",
   "metadata": {},
   "source": [
    "#### Lemmatization \n",
    "Get the root form of a word. But, unlike stemming, the word should have meaning. For example, intelligence, intelligent, intelligenlty - intelligent"
   ]
  },
  {
   "cell_type": "code",
   "execution_count": 22,
   "metadata": {},
   "outputs": [],
   "source": [
    "from nltk.stem import WordNetLemmatizer\n",
    "lemmatizer = WordNetLemmatizer()"
   ]
  },
  {
   "cell_type": "code",
   "execution_count": 25,
   "metadata": {},
   "outputs": [],
   "source": [
    "for i in range(len(sentences)):\n",
    "        words = nltk.word_tokenize(sentences[i])\n",
    "        words = [lemmatizer.lemmatize(word) for word in words if word not in set(stopwords.words('English'))]\n",
    "        sentences[i] = \" \".join(words)"
   ]
  },
  {
   "cell_type": "code",
   "execution_count": 30,
   "metadata": {},
   "outputs": [
    {
     "name": "stdout",
     "output_type": "stream",
     "text": [
      "Barring Sachin Tendulkar, MS Dhoni is arguably the most popular and definitely the most scrutinised cricketer\n",
      "            from India.\n",
      "He has done so coming from the cricketing backwaters, the mining state of Jharkhand, and through \n",
      "            a home-made batting\n",
      "            and wicketkeeping technique, and a style of captaincy that scales \n",
      "            the highs and lows of both conservatism and unorthodoxy.\n",
      "Under Dhonis captaincy, India have won the top prize\n",
      "            in all formats: the No.1 Test ranking for 18 months starting December 2009, the 50-over World Cup in 2011 and\n",
      "            the World Twenty20 on his captaincy debut in 2007.Dhoni, then a ticket inspector with the Indian Railways,\n",
      "            had escaped all attention bar the odd whisper among the followers of club cricket in Kolkata until he was 23\n",
      "            when he blasted two centuries in a triangular 50-over tournament for India A in Nairobi in 2004.\n",
      "Long-haired\n",
      "            and fearless, he soon swaggered into international cricket, and became an instant darling of the crowds with\n",
      "            ODI innings of 148 and 183 within a year of his debut.\n",
      "Dhoni demonstrated all that was right with the new middle-class India.\n",
      "He didnt respect reputations, but \n",
      "            never disrespected.\n",
      "He improvised, he learned, but didnt make an apology about his batting style, which was \n",
      "            not the most elegant.\n",
      "He still batted with low, hockey hands, he still didnt look elegant but became a \n",
      "            multi-faceted ODI batsman, one who could accumulate, one who could rebuild, and one who could still unleash \n",
      "            those big sixes.\n",
      "Along the way Dhoni showed leadership skills, which were recognised when Rahul Dravid gave up captaincy in 2007.\n",
      "Just before that announcement from Dravid, Dhoni had taken a bunch of kids to South Africa and was leading India \n",
      "            to a World Cup win in a format the country didnt even take seriously.\n",
      "The ODI captaincy was natural progression,\n",
      "            and Anil Kumble just kept the seat warm in Tests for a year.Dhoni brought to captaincy a thick skin and relative\n",
      "            indifference to results that an Indian captain needs to keep the job for long.\n",
      "Along with coach Gary Kirsten, \n",
      "            he put his senior performers in a comfortable place, and they returned the favour with some of their best years \n",
      "            in international cricket.\n",
      "His calmness on the field helped and worked like a charm in the shorter formats,\n",
      "            although tactically he sometimes sat back for too long in Tests.\n",
      "All that cant argue against the fact that \n",
      "            India had some of their best years in Test cricket, in terms of tangible achievement, under Dhoni, and that\n",
      "            Dhoni has for years been among the best few ODI batsmen in the world\n"
     ]
    }
   ],
   "source": [
    "a = [print(i) for i in sentences]"
   ]
  },
  {
   "cell_type": "code",
   "execution_count": null,
   "metadata": {},
   "outputs": [],
   "source": []
  }
 ],
 "metadata": {
  "kernelspec": {
   "display_name": "Python 3",
   "language": "python",
   "name": "python3"
  },
  "language_info": {
   "codemirror_mode": {
    "name": "ipython",
    "version": 3
   },
   "file_extension": ".py",
   "mimetype": "text/x-python",
   "name": "python",
   "nbconvert_exporter": "python",
   "pygments_lexer": "ipython3",
   "version": "3.7.6"
  }
 },
 "nbformat": 4,
 "nbformat_minor": 2
}
